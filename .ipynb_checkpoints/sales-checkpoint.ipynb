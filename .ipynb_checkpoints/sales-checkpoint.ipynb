{
 "cells": [
  {
   "cell_type": "code",
   "execution_count": null,
   "metadata": {
    "vscode": {
     "languageId": "plaintext"
    }
   },
   "outputs": [],
   "source": [
    "import pandas as pd\n",
    "import requests\n",
    "\n",
    "# URL of the CSV file\n",
    "url = \"https://script.google.com/macros/s/AKfycbx25nlBPO1OhqeGrKbBmae8RrjkIosVjE-wC0s5iPaYpHFwcapLrn97txShz2exWbA26g/exec\"\n",
    "\n",
    "# Function to download the CSV and save it locally\n",
    "def download_csv(url, output_filename):\n",
    "    response = requests.get(url)\n",
    "    if response.status_code == 200:\n",
    "        with open(output_filename, 'wb') as file:\n",
    "            file.write(response.content)\n",
    "        print(f\"CSV downloaded and saved as {output_filename}\")\n",
    "    else:\n",
    "        print(f\"Failed to download CSV. HTTP Status Code: {response.status_code}\")\n",
    "\n",
    "# Specify the output file name\n",
    "output_file = \"downloaded_data.csv\"\n",
    "\n",
    "# Download the CSV\n",
    "download_csv(url, output_file)\n",
    "\n",
    "# Load the CSV into a Pandas DataFrame and display the first few rows\n",
    "data = pd.read_csv(output_file)\n",
    "data.head()\n"
   ]
  },
  {
   "cell_type": "markdown",
   "metadata": {},
   "source": []
  },
  {
   "cell_type": "code",
   "execution_count": 2,
   "metadata": {},
   "outputs": [
    {
     "data": {
      "text/markdown": [
       "| Stock    |   QTY |   Price |   Dividend |\n",
       "|:---------|------:|--------:|-----------:|\n",
       "| TSE:CNQ  |   740 |   46.85 |      2.25  |\n",
       "| TSE:ENB  |  3044 |   63    |      3.66  |\n",
       "| TSE:PSA  |    85 |   50.05 |      2.652 |\n",
       "| TSE:TRP  |   300 |   68.84 |      3.52  |\n",
       "| TSE:SOBO |    74 |   33.22 |      2.76  |"
      ],
      "text/plain": [
       "<IPython.core.display.Markdown object>"
      ]
     },
     "metadata": {},
     "output_type": "display_data"
    }
   ],
   "source": [
    "import pandas as pd\n",
    "from IPython.display import Markdown, display\n",
    "\n",
    "# Load the CSV into a DataFrame\n",
    "data = pd.read_csv(\"downloaded_data.csv\")\n",
    "\n",
    "# Convert the first few rows of the DataFrame to Markdown format\n",
    "markdown_table = data.head().to_markdown(index=False)\n",
    "\n",
    "# Display the table as Markdown\n",
    "display(Markdown(markdown_table))\n"
   ]
  },
  {
   "cell_type": "code",
   "execution_count": null,
   "metadata": {},
   "outputs": [],
   "source": []
  }
 ],
 "metadata": {
  "kernelspec": {
   "display_name": "Python 3 (ipykernel)",
   "language": "python",
   "name": "python3"
  },
  "language_info": {
   "codemirror_mode": {
    "name": "ipython",
    "version": 3
   },
   "file_extension": ".py",
   "mimetype": "text/x-python",
   "name": "python",
   "nbconvert_exporter": "python",
   "pygments_lexer": "ipython3",
   "version": "3.12.8"
  }
 },
 "nbformat": 4,
 "nbformat_minor": 4
}
