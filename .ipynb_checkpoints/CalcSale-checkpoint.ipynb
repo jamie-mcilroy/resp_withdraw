{
 "cells": [
  {
   "cell_type": "code",
   "execution_count": 60,
   "id": "b073a9ab-ef85-4d5b-8d1d-afe9f01e1305",
   "metadata": {},
   "outputs": [
    {
     "name": "stdout",
     "output_type": "stream",
     "text": [
      "downloaded_data.csv not found. Downloading from the URL...\n",
      "File downloaded and saved as downloaded_data.csv.\n",
      "╒════╤══════════╤═══════╤═════════╤════════════╕\n",
      "│    │ Stock    │   QTY │   Price │   Dividend │\n",
      "╞════╪══════════╪═══════╪═════════╪════════════╡\n",
      "│  0 │ TSE:BCE  │   200 │   33.9  │       3.99 │\n",
      "├────┼──────────┼───────┼─────────┼────────────┤\n",
      "│  1 │ TSE:CNQ  │   740 │   46.8  │       2.25 │\n",
      "├────┼──────────┼───────┼─────────┼────────────┤\n",
      "│  2 │ TSE:ENB  │  3044 │   63.06 │       3.66 │\n",
      "├────┼──────────┼───────┼─────────┼────────────┤\n",
      "│  3 │ TSE:PSA  │     0 │   50.05 │     nan    │\n",
      "├────┼──────────┼───────┼─────────┼────────────┤\n",
      "│  4 │ TSE:TRP  │   300 │   68.39 │       3.52 │\n",
      "├────┼──────────┼───────┼─────────┼────────────┤\n",
      "│  5 │ TSE:SOBO │    74 │   33.4  │       2.76 │\n",
      "╘════╧══════════╧═══════╧═════════╧════════════╛\n"
     ]
    }
   ],
   "source": [
    "import pandas as pd\n",
    "import numpy as np\n",
    "import os\n",
    "import requests\n",
    "import locale\n",
    "from tabulate import tabulate\n",
    "\n",
    "# Set the locale to the user's default (or a specific one like 'en_US.UTF-8')\n",
    "locale.setlocale(locale.LC_ALL, '')\n",
    "\n",
    "\n",
    "# Define the file path and URL\n",
    "file_path = 'downloaded_data.csv'\n",
    "url = \"https://script.google.com/macros/s/AKfycbx25nlBPO1OhqeGrKbBmae8RrjkIosVjE-wC0s5iPaYpHFwcapLrn97txShz2exWbA26g/exec\"\n",
    "\n",
    "# Check if the file exists locally\n",
    "if not os.path.exists(file_path):\n",
    "    print(f\"{file_path} not found. Downloading from the URL...\")\n",
    "    response = requests.get(url)\n",
    "    if response.status_code == 200:\n",
    "        # Save the file\n",
    "        with open(file_path, 'wb') as f:\n",
    "            f.write(response.content)\n",
    "        print(f\"File downloaded and saved as {file_path}.\")\n",
    "    else:\n",
    "        print(f\"Failed to download the file. Status code: {response.status_code}\")\n",
    "        exit()\n",
    "# Load the file\n",
    "fundsneeded=5300\n",
    "df = pd.read_csv(file_path)\n",
    "\n",
    "print(tabulate(df, headers='keys', tablefmt='fancy_grid'))"
   ]
  },
  {
   "cell_type": "markdown",
   "id": "1a4c60aa-e88c-4f68-82dd-8b72c501bcbc",
   "metadata": {},
   "source": [
    "**I need to remove rows where the qty is zero**"
   ]
  },
  {
   "cell_type": "code",
   "execution_count": 57,
   "id": "b116fee9-6186-49f0-a79c-2c99c9d02413",
   "metadata": {},
   "outputs": [],
   "source": [
    "df = df[df['QTY'] != 0] "
   ]
  },
  {
   "cell_type": "markdown",
   "id": "e5e66164-c6a1-4b71-9977-1dcb820492fa",
   "metadata": {},
   "source": [
    "Now I need to add the columns I care about for my sort"
   ]
  },
  {
   "cell_type": "code",
   "execution_count": 58,
   "id": "677a6ed1-d8ae-4aff-b7bf-76a25cbff05e",
   "metadata": {},
   "outputs": [
    {
     "name": "stdout",
     "output_type": "stream",
     "text": [
      "      Stock   QTY  Price  Dividend  required  incomeloss\n",
      "1   TSE:CNQ   740  46.80      2.25     114.0       257.0\n",
      "4   TSE:TRP   300  68.39      3.52      78.0       275.0\n",
      "2   TSE:ENB  3044  63.06      3.66      85.0       312.0\n",
      "5  TSE:SOBO    74  33.40      2.76     159.0       439.0\n",
      "0   TSE:BCE   200  33.90      3.99     157.0       627.0\n"
     ]
    }
   ],
   "source": [
    "df['required'] = np.ceil(fundsneeded / df['Price'])\n",
    "df['incomeloss']=np.ceil(df['required'] * df['Dividend'])\n",
    "df = df.sort_values(by='incomeloss', ascending=True)\n",
    "print(df)"
   ]
  },
  {
   "cell_type": "code",
   "execution_count": 59,
   "id": "cef00cad-c456-4729-a356-4b89d18f4c1d",
   "metadata": {},
   "outputs": [
    {
     "name": "stdout",
     "output_type": "stream",
     "text": [
      "CREATE Order:  Sell TSE:CNQ:114.0 @ 46.8 for proceeds of $5,335.20 \n"
     ]
    }
   ],
   "source": [
    "first_row = df.iloc[0]  # Get the first row as a Series\n",
    "\n",
    "\n",
    "# Access specific values in the first row\n",
    "price = first_row['Price']\n",
    "req_qty = first_row['required']\n",
    "proceeds = price * req_qty\n",
    "\n",
    "print(f\"CREATE Order:  Sell {first_row['Stock']}:{req_qty} @ {price} for proceeds of {locale.currency(proceeds, grouping=True)} \")"
   ]
  },
  {
   "cell_type": "code",
   "execution_count": null,
   "id": "148966c8-d355-425a-9f28-d89d913fdfeb",
   "metadata": {},
   "outputs": [],
   "source": []
  }
 ],
 "metadata": {
  "kernelspec": {
   "display_name": "Python 3 (ipykernel)",
   "language": "python",
   "name": "python3"
  },
  "language_info": {
   "codemirror_mode": {
    "name": "ipython",
    "version": 3
   },
   "file_extension": ".py",
   "mimetype": "text/x-python",
   "name": "python",
   "nbconvert_exporter": "python",
   "pygments_lexer": "ipython3",
   "version": "3.12.8"
  }
 },
 "nbformat": 4,
 "nbformat_minor": 5
}
